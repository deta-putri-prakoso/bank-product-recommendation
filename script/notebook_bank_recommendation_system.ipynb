{
  "nbformat": 4,
  "nbformat_minor": 0,
  "metadata": {
    "colab": {
      "name": "final-bank-recommendation-system.ipynb",
      "version": "0.3.2",
      "provenance": [],
      "collapsed_sections": []
    },
    "kernelspec": {
      "display_name": "Python 2",
      "language": "python",
      "name": "python2"
    }
  },
  "cells": [
    {
      "metadata": {
        "id": "e39kjaPoIgNJ",
        "colab_type": "text"
      },
      "cell_type": "markdown",
      "source": [
        "# ***Bank recommendation system***\n",
        "\n",
        "### Notebook for predicting products to purchase.\n",
        "\n",
        "\n",
        "Author: David Jimenez"
      ]
    },
    {
      "metadata": {
        "id": "b5DIO2qpdQUz",
        "colab_type": "text"
      },
      "cell_type": "markdown",
      "source": [
        "## INTRODUCTION\n",
        "Being able to have an analysis of the basket of effective financial products is a challenge when it comes to satisfying the needs of customers within their life cycle of relationship with the entity. The final result translates into a recommendation engine that allows us to cover both the up-selling and cross-selling part.\n",
        "\n",
        "<img src=\"https://drive.google.com/uc?export=view&id=14VkAcJDyLCrmRLkhCCUWjdZewr8MRUnd\">\n",
        "\n",
        "In this script you will have the historical hirings made by clients during their relationship with the Entity and a series of additional socio-demographic attributes that will allow you to further adjust the hiring profile. Through this information, we will predict the new financial products that each client will hire.\n",
        "\n",
        "## THE DATASET\n",
        "The sequence of historical hiring of a group of clients, individuals and autonomous, of the Cajamar Group is provided through 94 modalities of products including socio-demographic attributes. The challenge is to predict the next product / s to be hired by the customer and that would form their ideal future basket of financial products.\n",
        "\n",
        "Dataset Training: The total number of records is 3,350,601 with 8 variables per record. With the Train file we are going to build a predictive model that allows determining the next product to be hired by the client, for this we have this transaction file where each record shows the hiring of a financial product per client, we will have as many records as historical hiring has the client.\n",
        "\n",
        "#### Variables\n",
        "\n",
        "*   *ID_Customer*: Customer identifier.\n",
        "*   *Cod_Prod*: Code of the contracted product modality.\n",
        "*  *Cod_Fecha*: Date of contracting the product modality. (Format YYYY-MM)\n",
        "*  *Socio_Demo_01-05*: Socio-demographic variables related to the client.\n",
        "\n",
        "The following variables are categorical (nominal):\n",
        "\n",
        "*  Socio_Demo_01.\n",
        "\n",
        "1: Age <18 years\n",
        "\n",
        "2: Age> = 18 years and Age <30 years\n",
        "\n",
        "3: Age> = 30 years and Age <45 years\n",
        "\n",
        "4: Age> = 45 years and Age <65 years\n",
        "\n",
        "5: Age> = 65 years\n",
        "\n",
        "*  Socio_Demo_02.\n",
        "\n",
        "1: Seniority <1 year\n",
        "\n",
        "2: Antiquity> = 1 year and Antiquity <5 years\n",
        "\n",
        "3: Antiquity> = 5 years and Antiquity <10 years\n",
        "\n",
        "4: Antiquity> = 10 years and Antiquity <20 years\n",
        "\n",
        "5: Antiquity> = 20 years\n",
        "\n",
        "*  Socio_Demo_03.\n",
        "\n",
        "1: Revenue <€ 6,000\n",
        "\n",
        "2: Revenue> = € 6,000 and Income <€ 12,000\n",
        "\n",
        "3: Income> = € 12,000 and Income <€ 24,000\n",
        "\n",
        "4: Income> = € 24,000 and Income <€ 32,000\n",
        "\n",
        "5: Revenue> = € 32,000\n",
        "\n",
        "\n",
        "The following variables are categorical (nominal):\n",
        "\n",
        "* *Cod_Prod*.: Code of the contracted product modality.\n",
        "*  *Socio_Demo_04*: Sex (1: Man, 2: Woman)\n",
        "*  *Socio_Demo_05*: Segment (00: Private | 01: Farmer | 02: Business | 03: Self-Employed)\n",
        "\n",
        "\n",
        "\n",
        "#### Geographical scope: \n",
        "The analysis has information from customers throughout the Spanish territory.\n",
        "\n",
        "#### Temporary window\n",
        "All the hiring of financial products made by the client during his relationship with the Entity have been taken into account."
      ]
    },
    {
      "metadata": {
        "id": "XWyR_F2nIgNK",
        "colab_type": "text"
      },
      "cell_type": "markdown",
      "source": [
        "Comenzamos importando los paquetes, módulos y librerias que vamos a utilizar.\n",
        "Las funciones que utilizamos se encuentran en la librería \"BigLearning2.py\" diseñada por nosotros y que debe encontrarse en la misma carpeta que este Notebook.\n",
        "\n",
        "**Aviso**: para la ejecución del código hay que tener instalado el clasificador xgboost, pudiéndolo \n",
        "<a href=\"https://pypi.python.org/pypi/xgboost/\">instalar fácilmente</a> con *pip install xgboost*.\n",
        "Esta librería podría dar un aviso *DeprecationWarning* del futuro.\n",
        "\n",
        "Escogemos una semilla para hacer estos resultados reproducibles (las pruebas se han realizado con la semilla 206)."
      ]
    },
    {
      "metadata": {
        "id": "Nwc-6Be5IgNL",
        "colab_type": "code",
        "colab": {}
      },
      "cell_type": "code",
      "source": [
        "import pandas as pd\n",
        "import numpy as np\n",
        "import matplotlib.pyplot as plt\n",
        "from xgboost.sklearn import XGBClassifier\n",
        "random_seed = 206\n",
        "import projectFunctions as pF"
      ],
      "execution_count": 0,
      "outputs": []
    },
    {
      "metadata": {
        "id": "nkWB-Dm7Lz25",
        "colab_type": "code",
        "outputId": "892c6319-1956-446c-c09a-869283411ba7",
        "colab": {
          "resources": {
            "http://localhost:8080/nbextensions/google.colab/files.js": {
              "data": "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",
              "ok": true,
              "headers": [
                [
                  "content-type",
                  "application/javascript"
                ]
              ],
              "status": 200,
              "status_text": ""
            }
          },
          "base_uri": "https://localhost:8080/",
          "height": 89
        }
      },
      "cell_type": "code",
      "source": [
        "from google.colab import files\n",
        "\n",
        "uploaded = files.upload()\n",
        "\n",
        "for fn in uploaded.keys():\n",
        "  print('User uploaded file \"{name}\" with length {length} bytes'.format(\n",
        "      name=fn, length=len(uploaded[fn])))"
      ],
      "execution_count": 0,
      "outputs": [
        {
          "output_type": "display_data",
          "data": {
            "text/plain": [
              "<IPython.core.display.HTML object>"
            ],
            "text/html": [
              "\n",
              "     <input type=\"file\" id=\"files-32b45052-c054-40a7-a5b8-a910d6e47734\" name=\"files[]\" multiple disabled />\n",
              "     <output id=\"result-32b45052-c054-40a7-a5b8-a910d6e47734\">\n",
              "      Upload widget is only available when the cell has been executed in the\n",
              "      current browser session. Please rerun this cell to enable.\n",
              "      </output>\n",
              "      <script src=\"/nbextensions/google.colab/files.js\"></script> "
            ]
          },
          "metadata": {
            "tags": []
          }
        },
        {
          "output_type": "stream",
          "text": [
            "Saving projectFunctions.py to projectFunctions.py\n",
            "User uploaded file \"projectFunctions.py\" with length 10692 bytes\n"
          ],
          "name": "stdout"
        }
      ]
    },
    {
      "metadata": {
        "id": "-VIvZKoycrLe",
        "colab_type": "code",
        "outputId": "0c980fee-52e1-4d13-a530-717584dbf9b0",
        "colab": {
          "base_uri": "https://localhost:8080/",
          "height": 51
        }
      },
      "cell_type": "code",
      "source": [
        "!ls"
      ],
      "execution_count": 2,
      "outputs": [
        {
          "output_type": "stream",
          "text": [
            "PIB.txt\t\t     projectFunctions.pyc  test.txt\n",
            "projectFunctions.py  sample_data\t   train.txt\n"
          ],
          "name": "stdout"
        }
      ]
    },
    {
      "metadata": {
        "id": "NupepdAQIgNR",
        "colab_type": "text"
      },
      "cell_type": "markdown",
      "source": [
        "### ** Load data **\n",
        "\n",
        "In the next cell we create a variable with the path of the training and test file. We use the * loadData () * function that loads the data with the specified input format and sorts these by user and date."
      ]
    },
    {
      "metadata": {
        "id": "K1ACJQQrIgNS",
        "colab_type": "code",
        "colab": {}
      },
      "cell_type": "code",
      "source": [
        "# Load datasets\n",
        "\n",
        "df_train = pF.loadData(\"train.txt\")\n",
        "cols = ['ID_Customer','Socio_Demo_01','Socio_Demo_02','Socio_Demo_03','Socio_Demo_04','Socio_Demo_05','Cod_Fecha','Cod_Prod']\n",
        "df_train = df_train[cols]\n",
        "df_train.head()\n",
        "\n",
        "df_test = pF.loadData(\"test.txt\")"
      ],
      "execution_count": 0,
      "outputs": []
    },
    {
      "metadata": {
        "id": "MUhRFho754l_",
        "colab_type": "code",
        "outputId": "5adaf294-ad90-45d3-c4c4-f7e9f9d2b268",
        "colab": {
          "base_uri": "https://localhost:8080/",
          "height": 34
        }
      },
      "cell_type": "code",
      "source": [
        "df_train.shape"
      ],
      "execution_count": 6,
      "outputs": [
        {
          "output_type": "execute_result",
          "data": {
            "text/plain": [
              "(3350601, 8)"
            ]
          },
          "metadata": {
            "tags": []
          },
          "execution_count": 6
        }
      ]
    },
    {
      "metadata": {
        "id": "irnxdVNgydTB",
        "colab_type": "code",
        "outputId": "61ccf205-1e70-4fb9-cbe3-45db5f170834",
        "colab": {
          "base_uri": "https://localhost:8080/",
          "height": 51
        }
      },
      "cell_type": "code",
      "source": [
        "n_users = df_train.ID_Customer.unique().shape[0]\n",
        "n_items = df_train['Cod_Prod'].unique().shape[0]\n",
        "print(str(n_users) + ' users') \n",
        "print(str(n_items) + ' products') "
      ],
      "execution_count": 7,
      "outputs": [
        {
          "output_type": "stream",
          "text": [
            "676370 users\n",
            "94 products\n"
          ],
          "name": "stdout"
        }
      ]
    },
    {
      "metadata": {
        "id": "qT5g4-vw5-J4",
        "colab_type": "text"
      },
      "cell_type": "markdown",
      "source": [
        "## Data Visualization\n",
        "We are going to plot the differents variables with their values to visualizate the data."
      ]
    },
    {
      "metadata": {
        "id": "WgVw_30C4SKn",
        "colab_type": "code",
        "outputId": "e324347f-5e74-405e-a58b-52405d4158e6",
        "colab": {
          "base_uri": "https://localhost:8080/",
          "height": 136
        }
      },
      "cell_type": "code",
      "source": [
        "df_train.groupby(['Socio_Demo_01'])['Socio_Demo_01'].value_counts()"
      ],
      "execution_count": 8,
      "outputs": [
        {
          "output_type": "execute_result",
          "data": {
            "text/plain": [
              "Socio_Demo_01  Socio_Demo_01\n",
              "1              1                  47430\n",
              "2              2                 282960\n",
              "3              3                1077626\n",
              "4              4                1355148\n",
              "5              5                 587437\n",
              "Name: Socio_Demo_01, dtype: int64"
            ]
          },
          "metadata": {
            "tags": []
          },
          "execution_count": 8
        }
      ]
    },
    {
      "metadata": {
        "id": "3xylr4zf4R7T",
        "colab_type": "code",
        "outputId": "88a6b6be-28bf-447f-998b-e6b7394a45d9",
        "colab": {
          "base_uri": "https://localhost:8080/",
          "height": 351
        }
      },
      "cell_type": "code",
      "source": [
        "labels = '>18', '18-30','30-45','45-65', '>65'\n",
        "sizes = [47430, 282960, 1077626, 1355148, 587437]\n",
        "plt.pie(sizes, labels=labels, autopct='%1.1f%%', shadow=True, startangle=140)\n",
        " \n",
        "plt.axis('equal')\n",
        "plt.title('Age',fontsize=20)\n",
        "plt.show()\n"
      ],
      "execution_count": 9,
      "outputs": [
        {
          "output_type": "display_data",
          "data": {
            "image/png": "[encoded data removed]",
            "text/plain": [
              "<Figure size 576x396 with 1 Axes>"
            ]
          },
          "metadata": {
            "tags": []
          }
        }
      ]
    },
    {
      "metadata": {
        "id": "crnQwfZq4-XB",
        "colab_type": "code",
        "colab": {
          "base_uri": "https://localhost:8080/",
          "height": 136
        },
        "outputId": "99419878-565c-4d3f-8fcb-0dabeb59353b"
      },
      "cell_type": "code",
      "source": [
        "df_train.groupby(['Socio_Demo_02'])['Socio_Demo_02'].value_counts()"
      ],
      "execution_count": 10,
      "outputs": [
        {
          "output_type": "execute_result",
          "data": {
            "text/plain": [
              "Socio_Demo_02  Socio_Demo_02\n",
              "1              1                  18221\n",
              "2              2                 279788\n",
              "3              3                 478017\n",
              "4              4                1312300\n",
              "5              5                1262275\n",
              "Name: Socio_Demo_02, dtype: int64"
            ]
          },
          "metadata": {
            "tags": []
          },
          "execution_count": 10
        }
      ]
    },
    {
      "metadata": {
        "id": "Z4qsDJ9I4-I2",
        "colab_type": "code",
        "colab": {
          "base_uri": "https://localhost:8080/",
          "height": 351
        },
        "outputId": "c2361ffd-40e9-46f2-dbb2-19f78f22a91a"
      },
      "cell_type": "code",
      "source": [
        "labels = '<1 year' , '1-5', '5-10', '10-20', '>20'\n",
        "sizes = [18221, 279788, 478017, 1312300,1262275]\n",
        "plt.pie(sizes, labels=labels, autopct='%1.1f%%', shadow=True, startangle=140)\n",
        " \n",
        "plt.axis('equal')\n",
        "plt.title('Seniority',fontsize=20)\n",
        "plt.show()"
      ],
      "execution_count": 11,
      "outputs": [
        {
          "output_type": "display_data",
          "data": {
            "image/png": "[encoded data removed]",
            "text/plain": [
              "<Figure size 576x396 with 1 Axes>"
            ]
          },
          "metadata": {
            "tags": []
          }
        }
      ]
    },
    {
      "metadata": {
        "id": "kNYtKaS15JjD",
        "colab_type": "code",
        "colab": {
          "base_uri": "https://localhost:8080/",
          "height": 136
        },
        "outputId": "7e6d83b4-1eab-4f29-c328-c02b23131ad8"
      },
      "cell_type": "code",
      "source": [
        "df_train.groupby(['Socio_Demo_03'])['Socio_Demo_03'].value_counts()"
      ],
      "execution_count": 12,
      "outputs": [
        {
          "output_type": "execute_result",
          "data": {
            "text/plain": [
              "Socio_Demo_03  Socio_Demo_03\n",
              "1              1                 499949\n",
              "2              2                1175007\n",
              "3              3                 984109\n",
              "4              4                 253218\n",
              "5              5                 438318\n",
              "Name: Socio_Demo_03, dtype: int64"
            ]
          },
          "metadata": {
            "tags": []
          },
          "execution_count": 12
        }
      ]
    },
    {
      "metadata": {
        "id": "M-P22v4R5JW8",
        "colab_type": "code",
        "colab": {
          "base_uri": "https://localhost:8080/",
          "height": 351
        },
        "outputId": "9b6edb3e-124f-420b-d549-2a6f8f435aa4"
      },
      "cell_type": "code",
      "source": [
        "labels = '<6K', '6-12K', '12-24K', '24-32K', '>32K'\n",
        "sizes = [499949, 1175007, 984109, 253218, 438318]\n",
        "plt.pie(sizes, labels=labels, autopct='%1.1f%%', shadow=True, startangle=140)\n",
        " \n",
        "plt.axis('equal')\n",
        "plt.title('Outcome',fontsize=20)\n",
        "plt.show()"
      ],
      "execution_count": 13,
      "outputs": [
        {
          "output_type": "display_data",
          "data": {
            "image/png": "[encoded data removed]",
            "text/plain": [
              "<Figure size 576x396 with 1 Axes>"
            ]
          },
          "metadata": {
            "tags": []
          }
        }
      ]
    },
    {
      "metadata": {
        "id": "0NJVGSDAzdrv",
        "colab_type": "code",
        "colab": {
          "base_uri": "https://localhost:8080/",
          "height": 85
        },
        "outputId": "6e122b4e-528d-4c7e-d623-e80ff803030f"
      },
      "cell_type": "code",
      "source": [
        "df_train.groupby(['Socio_Demo_04'])['Socio_Demo_04'].value_counts()"
      ],
      "execution_count": 14,
      "outputs": [
        {
          "output_type": "execute_result",
          "data": {
            "text/plain": [
              "Socio_Demo_04  Socio_Demo_04\n",
              "1              1                1866368\n",
              "2              2                1484233\n",
              "Name: Socio_Demo_04, dtype: int64"
            ]
          },
          "metadata": {
            "tags": []
          },
          "execution_count": 14
        }
      ]
    },
    {
      "metadata": {
        "id": "1OHLrNNWwrpS",
        "colab_type": "code",
        "colab": {
          "base_uri": "https://localhost:8080/",
          "height": 351
        },
        "outputId": "5e358999-5123-47ea-db99-9639a6777d5b"
      },
      "cell_type": "code",
      "source": [
        "labels = 'Women', 'Men'\n",
        "sizes = [1484233, 1866368]\n",
        "plt.pie(sizes, labels=labels, autopct='%1.1f%%', shadow=True, startangle=140)\n",
        " \n",
        "plt.axis('equal')\n",
        "plt.title('Gender',fontsize=20)\n",
        "plt.show()\n"
      ],
      "execution_count": 15,
      "outputs": [
        {
          "output_type": "display_data",
          "data": {
            "image/png": "[encoded data removed]",
            "text/plain": [
              "<Figure size 576x396 with 1 Axes>"
            ]
          },
          "metadata": {
            "tags": []
          }
        }
      ]
    },
    {
      "metadata": {
        "id": "iteY5kjQowJJ",
        "colab_type": "code",
        "colab": {
          "base_uri": "https://localhost:8080/",
          "height": 119
        },
        "outputId": "21ce3177-cb1b-461f-c392-5ac2810085b4"
      },
      "cell_type": "code",
      "source": [
        "df_train.groupby(['Socio_Demo_05'])['Socio_Demo_05'].value_counts()"
      ],
      "execution_count": 16,
      "outputs": [
        {
          "output_type": "execute_result",
          "data": {
            "text/plain": [
              "Socio_Demo_05  Socio_Demo_05\n",
              "0              0                2657685\n",
              "1              1                 163495\n",
              "2              2                 155285\n",
              "3              3                 374136\n",
              "Name: Socio_Demo_05, dtype: int64"
            ]
          },
          "metadata": {
            "tags": []
          },
          "execution_count": 16
        }
      ]
    },
    {
      "metadata": {
        "id": "q_LXxgs81u6C",
        "colab_type": "code",
        "colab": {
          "base_uri": "https://localhost:8080/",
          "height": 351
        },
        "outputId": "1ee431dc-11d9-4bb5-9ca3-6858bb84fe86"
      },
      "cell_type": "code",
      "source": [
        "labels = 'Private' , 'Farmer', 'Business', 'Self-Employed'\n",
        "sizes = [2657685, 163495, 155285, 374136]\n",
        "plt.pie(sizes, labels=labels, autopct='%1.1f%%', shadow=True, startangle=140)\n",
        " \n",
        "plt.axis('equal')\n",
        "plt.title('Profession',fontsize=20)\n",
        "plt.show()"
      ],
      "execution_count": 17,
      "outputs": [
        {
          "output_type": "display_data",
          "data": {
            "image/png": "[encoded data removed]",
            "text/plain": [
              "<Figure size 576x396 with 1 Axes>"
            ]
          },
          "metadata": {
            "tags": []
          }
        }
      ]
    },
    {
      "metadata": {
        "id": "tdwHI_0kgnxL",
        "colab_type": "code",
        "colab": {
          "base_uri": "https://localhost:8080/",
          "height": 170
        },
        "outputId": "1657a29c-f1fa-4e15-e561-e38a6983468e"
      },
      "cell_type": "code",
      "source": [
        "df_train['Cod_Prod'].unique()"
      ],
      "execution_count": 18,
      "outputs": [
        {
          "output_type": "execute_result",
          "data": {
            "text/plain": [
              "array([2501, 2503,  601, 1011,  704,  301,  801, 9992,  201, 2301, 9993,\n",
              "       9991, 2205, 2302, 2704, 1401, 1020, 1001, 3401, 2602,  506, 2707,\n",
              "       1013, 2202, 2705, 2601, 2701, 2702,  706, 2102, 1007, 1801, 1804,\n",
              "        707, 3001, 2201, 2203, 1022, 1306,  102, 2401, 1010, 1017,  503,\n",
              "       2204, 1309, 2105,  103, 2106, 2706, 1805, 1002, 1803, 1301, 1310,\n",
              "       2103, 1004, 1009, 1802, 1019, 1012, 2104,  702, 2206,  708,  705,\n",
              "       1307, 1302, 1311, 1005,  101, 1006, 1501, 1304, 2703, 1008, 3101,\n",
              "       1015, 1303, 1014,  703, 1021,  804, 1305, 1806, 2502,  803, 1308,\n",
              "       2901, 1312,  502, 2801,  104,  504])"
            ]
          },
          "metadata": {
            "tags": []
          },
          "execution_count": 18
        }
      ]
    },
    {
      "metadata": {
        "id": "kQVr9LG_c6mI",
        "colab_type": "code",
        "colab": {
          "base_uri": "https://localhost:8080/",
          "height": 1071
        },
        "outputId": "df955961-62ff-4c39-bac9-fc8109ae542f"
      },
      "cell_type": "code",
      "source": [
        "#Frecuency of apparition for each 'Cod_Prod'\n",
        "pd.value_counts(df_train['Cod_Prod'].values, sort=True)"
      ],
      "execution_count": 19,
      "outputs": [
        {
          "output_type": "execute_result",
          "data": {
            "text/plain": [
              "601     661756\n",
              "301     426169\n",
              "201     339686\n",
              "2302    268166\n",
              "9993    230423\n",
              "9991    230423\n",
              "2205    106478\n",
              "2704    101727\n",
              "2601    100163\n",
              "704      91809\n",
              "1011     78006\n",
              "9992     71662\n",
              "2301     66305\n",
              "2705     52034\n",
              "2503     46955\n",
              "2501     46599\n",
              "2602     42616\n",
              "2707     31287\n",
              "2701     29799\n",
              "706      29228\n",
              "1804     19882\n",
              "2102     17157\n",
              "1020     16175\n",
              "801      15528\n",
              "2106     15150\n",
              "1801     14558\n",
              "2201     13908\n",
              "707      13722\n",
              "3001     11184\n",
              "1013     10731\n",
              "         ...  \n",
              "506        669\n",
              "1019       605\n",
              "3101       586\n",
              "1012       558\n",
              "1303       497\n",
              "1501       485\n",
              "2105       324\n",
              "101        261\n",
              "1005       259\n",
              "1803       257\n",
              "1010       219\n",
              "1806       209\n",
              "1006       152\n",
              "104        105\n",
              "504         69\n",
              "703         67\n",
              "1004        37\n",
              "2801        34\n",
              "1015        28\n",
              "2502        24\n",
              "804         21\n",
              "1008        20\n",
              "2104        19\n",
              "1305        18\n",
              "1014        17\n",
              "803          9\n",
              "2901         6\n",
              "1308         5\n",
              "502          3\n",
              "1312         1\n",
              "Length: 94, dtype: int64"
            ]
          },
          "metadata": {
            "tags": []
          },
          "execution_count": 19
        }
      ]
    },
    {
      "metadata": {
        "id": "-jRmdYqnIgNV",
        "colab_type": "text"
      },
      "cell_type": "markdown",
      "source": [
        "<a id=\"transf\"></a>\n",
        "## **Preprocessing data**\n",
        "\n",
        "In the next cell we carry out the transformation of the data with the two functions:\n",
        "\n",
        "- *** Date treatment***: which is responsible for adding a new attribute corresponding to the number of days that have passed since 01-01-1950 for each record. \n",
        "\n",
        "\n",
        "- *** mapProduct: *** which is responsible for mapping the products to integer values ordered by their frequency of appearance in the training file."
      ]
    },
    {
      "metadata": {
        "id": "wp20HKnJIgNW",
        "colab_type": "code",
        "colab": {}
      },
      "cell_type": "code",
      "source": [
        "# Train transformation\n",
        "df_train = pF.tratamientoFecha(df_train)\n",
        "df_train = pF.mapProduct(df_train)\n",
        "\n",
        "# Test transformacion\n",
        "df_test = pF.tratamientoFecha(df_test)\n",
        "dfTs = pF.mapProdByDict(df_test)"
      ],
      "execution_count": 0,
      "outputs": []
    },
    {
      "metadata": {
        "id": "D7COWTdqIgNZ",
        "colab_type": "text"
      },
      "cell_type": "markdown",
      "source": [
        "We use all the data for the creation of the different maps used for the generation of new features:\n",
        "\n",
        "- *** mapAparicionProduct: *** generates a map of dates when the different products of the training set appear, assigning an ascending whole value.\n",
        "\n",
        "- *** mapDiasInicio: *** generates a map to which you assign each training and test user the day on which you made the first purchase. This will be used to estimate the number of days since you registered in the database until you purchased the last product.\n",
        "\n",
        "- *** mapYearPIB: *** loads a map of annual GDP per capita Spanish that must be in the same folder as this Notebook, whose name must be PIB.txt."
      ]
    },
    {
      "metadata": {
        "id": "BDQelYZTIgNZ",
        "colab_type": "code",
        "colab": {}
      },
      "cell_type": "code",
      "source": [
        "__ = pF.mapAparicionProd(df_train)\n",
        "__ = pF.mapDiasInicio(df_train)\n",
        "__ = pF.mapDiasInicio(df_test)\n",
        "__ = pF.mapYearPIB()"
      ],
      "execution_count": 0,
      "outputs": []
    },
    {
      "metadata": {
        "collapsed": true,
        "id": "TXzSpy7nIgNc",
        "colab_type": "text"
      },
      "cell_type": "markdown",
      "source": [
        "### ** Treatment of the time series **\n",
        "\n",
        "In the next cell we will include as attributes the previous products purchased by the users, as well as the number of days elapsed since 01-01-1950 until the acquisition of each of the previous products."
      ]
    },
    {
      "metadata": {
        "id": "uMX4Nvp7IgNd",
        "colab_type": "code",
        "colab": {}
      },
      "cell_type": "code",
      "source": [
        "# Number of previous products to considerate\n",
        "nant = 8\n",
        "incluir_num_dias = True\n",
        "\n",
        "# Train\n",
        "df_train = pF.addProdAnt(df_train, nant, incluir_num_dias)\n",
        "\n",
        "# Test\n",
        "df_test = pF.addProdAnt(df_test, nant, incluir_num_dias)"
      ],
      "execution_count": 0,
      "outputs": []
    },
    {
      "metadata": {
        "id": "V7-tjvo-m3U3",
        "colab_type": "text"
      },
      "cell_type": "markdown",
      "source": [
        "#### **Creación de los dataframe**\n",
        "In the next cell we create three dataframes of the time series:\n",
        "- *dfTr2model*: this training dataframe is what we will use to generate the prediction model.\n",
        "- *dfTs2eval*: this test dataframe will be used to evaluate the results of the prediction. In this way, it will help us estimate how we will do it in prediction.\n",
        "- *dfTs2predict*: this test dataframe is what we will use to carry out the prediction. The chosen data corresponds to the last entry for each user."
      ]
    },
    {
      "metadata": {
        "id": "yELYpJNpnIa_",
        "colab_type": "code",
        "colab": {}
      },
      "cell_type": "code",
      "source": [
        "# Subconjunto de entrenamiento\n",
        "dfTr2model = pF.ultimoElementoSerie(df_train)\n",
        "\n",
        "# Subconjunto de evaluación\n",
        "dfTs2eval = pF.ultimoElementoSerie(df_test)\n",
        "\n",
        "# Subconjunto de predicción\n",
        "dfTs2predict = pF.createTest(df_test)"
      ],
      "execution_count": 0,
      "outputs": []
    },
    {
      "metadata": {
        "id": "zfpOW4V_nU6Y",
        "colab_type": "text"
      },
      "cell_type": "markdown",
      "source": [
        "We add the number of products purchased as a feature. For the prediction dataframe we indicate that you take all the products purchased."
      ]
    },
    {
      "metadata": {
        "id": "Tmsd6zoznYBk",
        "colab_type": "code",
        "colab": {}
      },
      "cell_type": "code",
      "source": [
        "dfTr2model[\"Num_Prod_Ant\"] = pF.numProductosComprados(df_train)\n",
        "dfTs2eval[\"Num_Prod_Ant\"] = pF.numProductosComprados(df_train)\n",
        "dfTs2predict[\"Num_Prod_Ant\"] = pF.numProductosComprados(df_train, test = True)"
      ],
      "execution_count": 0,
      "outputs": []
    },
    {
      "metadata": {
        "id": "guORvO4fnsMX",
        "colab_type": "text"
      },
      "cell_type": "markdown",
      "source": [
        "### Dataset reduction\n",
        "\n",
        "** Sub-sampling **\n",
        "\n",
        "Due to the large amount of data provided in the training file, we performed a random sub-sampling of the * train * dataframe in order to carry out the training of the models in a reasonable time.\n",
        "This sub-sampling is performed in a stratified manner, as explained in the report.\n",
        "In our case we are left with 20% of the train data, which is more than 120,000 records.\n",
        "\n",
        "Once the training model to be implemented in the validation phase has been chosen, in order to estimate the goodness of the classifier on the test set, it is decided to evaluate the success rate on this set."
      ]
    },
    {
      "metadata": {
        "id": "1R7QaADEnotv",
        "colab_type": "code",
        "colab": {
          "base_uri": "https://localhost:8080/",
          "height": 71
        },
        "outputId": "3185b34d-1964-45ee-e73b-ff2d513bf4b3"
      },
      "cell_type": "code",
      "source": [
        "# Subconjunto de entrenamiento\n",
        "size = .2\n",
        "dfTr2model = pF.subset(df_train, df_train.Cod_Prod, size = size)\n",
        "\n",
        "# Subconjunto de test, para evaluación sobre este conjunto de datos\n",
        "size = .2\n",
        "dfTs2eval = pF.subset(df_test, df_test.Cod_Prod, size = size)"
      ],
      "execution_count": 25,
      "outputs": [
        {
          "output_type": "stream",
          "text": [
            "/usr/local/lib/python2.7/dist-packages/sklearn/model_selection/_split.py:2179: FutureWarning: From version 0.21, test_size will always complement train_size unless both are specified.\n",
            "  FutureWarning)\n"
          ],
          "name": "stderr"
        }
      ]
    },
    {
      "metadata": {
        "id": "ehkFSBzwn9T0",
        "colab_type": "text"
      },
      "cell_type": "markdown",
      "source": [
        "** Elimination of minority classes **\n",
        "\n",
        "In order to eliminate the minority classes of the training set we * can *. The justification for taking 60 classes is done in the presentation of the second phase.\n",
        "\n",
        "For the test case it would not be necessary because you do not need to model any class with this."
      ]
    },
    {
      "metadata": {
        "id": "Md03GvfBn-oc",
        "colab_type": "code",
        "colab": {
          "base_uri": "https://localhost:8080/",
          "height": 68
        },
        "outputId": "43b44f19-44c5-41a2-fa64-286f9e633945"
      },
      "cell_type": "code",
      "source": [
        "clases = 60\n",
        "resto = False\n",
        "\n",
        "dfTr2model = pF.classPrune2(dfTr2model, dfTr2model.Cod_Prod, nc = clases, resto = resto)"
      ],
      "execution_count": 26,
      "outputs": [
        {
          "output_type": "stream",
          "text": [
            "Number of classes: 60 \n",
            "Percentage of data: 99.71766250820747 %\n",
            "Minimum of samples: 215.0\n"
          ],
          "name": "stdout"
        }
      ]
    },
    {
      "metadata": {
        "id": "N8IwqPPkIgN1",
        "colab_type": "text"
      },
      "cell_type": "markdown",
      "source": [
        "\n",
        "\n",
        "<a id=\"feat\"></a>\n",
        "## Treatment of features\n",
        "\n",
        "** New features **\n",
        "\n",
        "In the next cell we add the characteristics to the data sets. Some of these functions use the maps loaded at the beginning of the Notebook. This process may take a while to run, but not more than 5 minutes (depends on the computer and the amount of data).\n",
        "\n",
        "- **restaFechas**: is responsible for subtracting the days between the previous products that each customer has purchased and creating a corresponding column.\n",
        "\n",
        "\n",
        "- **acontecimiento**: creates a column with the event of Cajamar according to the time in which the user buys the previous product. The event is marked by the merger of the rural banks.\n",
        "\n",
        "\n",
        "- **addPIBAnt**: creates a column with the GDP per capita of the years in which the user buys the previous product.\n",
        "\n",
        "\n",
        "- **addDiasInicioAnt**: create a column with the days that have passed since the user started buying, taking into account the date of purchase of the previous product."
      ]
    },
    {
      "metadata": {
        "id": "Mr0lYav5IgN3",
        "colab_type": "code",
        "colab": {
          "base_uri": "https://localhost:8080/",
          "height": 68
        },
        "outputId": "9f813717-be8d-4f49-f56e-8c5cb7475b97"
      },
      "cell_type": "code",
      "source": [
        "dfTr2model = pF.restaFechas(dfTr2model)\n",
        "dfTr2model = pF.acontecimiento(dfTr2model)\n",
        "dfTr2model = pF.addPIBAnt(dfTr2model)\n",
        "dfTr2model = pF.addDiasInicioAnt(dfTr2model)\n",
        "print(\"Creation of features for training set completed.\")\n",
        "\n",
        "dfTs2eval = pF.restaFechas(dfTs2eval)\n",
        "dfTs2eval = pF.acontecimiento(dfTs2eval)\n",
        "dfTs2eval = pF.addPIBAnt(dfTs2eval)\n",
        "dfTs2eval = pF.addDiasInicioAnt(dfTs2eval)\n",
        "print(\"Creation of features for evaluation set completed.\")\n",
        "\n",
        "dfTs2predict = pF.restaFechas(dfTs2predict)\n",
        "dfTs2predict = pF.acontecimiento(dfTs2predict)\n",
        "dfTs2predict = pF.addPIBAnt(dfTs2predict)\n",
        "dfTs2predict = pF.addDiasInicioAnt(dfTs2predict)\n",
        "print(\"Creation of features for prediction set completed.\")"
      ],
      "execution_count": 27,
      "outputs": [
        {
          "output_type": "stream",
          "text": [
            "Creation of features for training set completed.\n",
            "Creation of features for evaluation set completed.\n",
            "Creation of features for prediction set completed.\n"
          ],
          "name": "stdout"
        }
      ]
    },
    {
      "metadata": {
        "id": "ZWg6fFVPIgN5",
        "colab_type": "text"
      },
      "cell_type": "markdown",
      "source": [
        "**Expansion of variables**\n",
        "\n",
        "In the next cell we carry out the expansion of categorical variables, in which as many columns as possible values can be created the variable passed by argument."
      ]
    },
    {
      "metadata": {
        "id": "xN14BlGUIgN6",
        "colab_type": "code",
        "colab": {
          "base_uri": "https://localhost:8080/",
          "height": 68
        },
        "outputId": "1514ec4c-9b49-4628-d02c-590d25382331"
      },
      "cell_type": "code",
      "source": [
        "variable = \"Socio_Demo_05\"\n",
        "\n",
        "dfTr2model = pF.expandirVariable(dfTr2model, variable)\n",
        "dfTs2eval = pF.expandirVariable(dfTs2eval, variable)\n",
        "dfTs2predict = pF.expandirVariable(dfTs2predict, variable)"
      ],
      "execution_count": 28,
      "outputs": [
        {
          "output_type": "stream",
          "text": [
            "Expanding Socio_Demo_05 to dimension 4\n",
            "Expanding Socio_Demo_05 to dimension 4\n",
            "Expanding Socio_Demo_05 to dimension 4\n"
          ],
          "name": "stdout"
        }
      ]
    },
    {
      "metadata": {
        "id": "BiwsI_eLv7vN",
        "colab_type": "text"
      },
      "cell_type": "markdown",
      "source": [
        "#### ** Feature selection **\n",
        "\n",
        "In the next cell we eliminate attributes that have served us to calculate other variables but that we do not really have at the time of making the prediction.\n",
        "\n",
        "The attributes to eliminate in this part are:\n",
        "\n",
        "- **Cod_Fecha**: this attribute is eliminated, since in the real scenario we can not know when the user is going to buy the new product.\n",
        "\n",
        "\n",
        "- **Cod_Fecha_Ant**: it is a column in date format when I bought the previous product, we eliminated it because we have already made the relevant transformations, and it is not useful in date format.\n",
        "\n",
        "\n",
        "- **Num_Dias**: this column is not available because we do not have the current purchase date to know how many days have passed since 1950."
      ]
    },
    {
      "metadata": {
        "id": "MKL7oZUKrGX4",
        "colab_type": "code",
        "colab": {}
      },
      "cell_type": "code",
      "source": [
        "columns2drop = [\"Cod_Fecha\", \"Cod_Fecha_Ant\", \"Num_Dias\"]\n",
        "\n",
        "dfTr2model = dfTr2model.drop(columns2drop, axis=1)\n",
        "dfTs2eval = dfTs2eval.drop(columns2drop, axis=1)\n",
        "dfTs2predict = dfTs2predict.drop(columns2drop,axis=1)"
      ],
      "execution_count": 0,
      "outputs": []
    },
    {
      "metadata": {
        "id": "_p0VRGZcv9FW",
        "colab_type": "text"
      },
      "cell_type": "markdown",
      "source": [
        "## ** Machine Learning model **\n",
        "In the next cell we extract the columns with which we will carry out the training of our classifier.\n",
        "\n"
      ]
    },
    {
      "metadata": {
        "id": "8kf_6A4TrT43",
        "colab_type": "code",
        "colab": {
          "base_uri": "https://localhost:8080/",
          "height": 54
        },
        "outputId": "1863d3c3-1c87-4da6-9303-d7d31b020757"
      },
      "cell_type": "code",
      "source": [
        "# We choose the training data by eliminating the product code and the user ID.\n",
        "columns = list(dfTr2model.columns[2:len(dfTr2model.columns)])\n",
        "\n",
        "print columns"
      ],
      "execution_count": 30,
      "outputs": [
        {
          "output_type": "stream",
          "text": [
            "['Socio_Demo_02', 'Socio_Demo_03', 'Socio_Demo_04', 'Cod_Prod', 'Cod_Prod_Ant1', 'Num_Dias_Ant1', 'Cod_Prod_Ant2', 'Num_Dias_Ant2', 'Cod_Prod_Ant3', 'Num_Dias_Ant3', 'Cod_Prod_Ant4', 'Num_Dias_Ant4', 'Cod_Prod_Ant5', 'Num_Dias_Ant5', 'Cod_Prod_Ant6', 'Num_Dias_Ant6', 'Cod_Prod_Ant7', 'Num_Dias_Ant7', 'Cod_Prod_Ant8', 'Num_Dias_Ant8', 'Diferencia_Fechas_1', 'Diferencia_Fechas_2', 'Diferencia_Fechas_3', 'Diferencia_Fechas_4', 'Diferencia_Fechas_5', 'Diferencia_Fechas_6', 'Diferencia_Fechas_7', 'AcontecimientoAnt', 'PIB_Ant', 'DiasDesde_Inicio', 'Socio_Demo_05_1', 'Socio_Demo_05_2', 'Socio_Demo_05_3', 'Socio_Demo_05_4']\n"
          ],
          "name": "stdout"
        }
      ]
    },
    {
      "metadata": {
        "id": "Lz_PkQe8rTS4",
        "colab_type": "text"
      },
      "cell_type": "markdown",
      "source": [
        "<a id=\"train\"> </a>\n",
        "## **Training**\n",
        "\n",
        "In the next cell we carry out the entry of our classifier * XGBoost * with the optimal parameters obtained from the validation phase. We could do a tuning to find the best parameters."
      ]
    },
    {
      "metadata": {
        "id": "5eRUWErqrn_l",
        "colab_type": "code",
        "colab": {}
      },
      "cell_type": "code",
      "source": [
        "import multiprocessing\n",
        "nproc = multiprocessing.cpu_count() # For a fastest train, we use all cpu processors\n",
        "\n",
        "estimator=XGBClassifier(learning_rate = 0.1,\n",
        "                       nthread = nproc,\n",
        "                       base_score = 0.2,\n",
        "                       n_estimators = 300,\n",
        "                       seed = random_seed,\n",
        "                       max_depth = 5)"
      ],
      "execution_count": 0,
      "outputs": []
    },
    {
      "metadata": {
        "id": "osOHQ1kWxZxh",
        "colab_type": "code",
        "colab": {}
      },
      "cell_type": "code",
      "source": [
        "estimator.fit(dfTr2model[columns], dfTr2model.Cod_Prod)"
      ],
      "execution_count": 0,
      "outputs": []
    },
    {
      "metadata": {
        "id": "mWAqtMA9sE2F",
        "colab_type": "text"
      },
      "cell_type": "markdown",
      "source": [
        "** Evaluation of the test data **\n",
        "\n",
        "In order to observe the results of the test predictions, the trained classifier is evaluated on the random subset of test data."
      ]
    },
    {
      "metadata": {
        "id": "TkGWwuuRsFd-",
        "colab_type": "code",
        "colab": {}
      },
      "cell_type": "code",
      "source": [
        "tsScore = estimator.score(dfTs2eval[columns], dfTs2eval.Cod_Prod)\n",
        "\n",
        "print(\"Score obtained in test: \"+ str(tsScore))"
      ],
      "execution_count": 0,
      "outputs": []
    },
    {
      "metadata": {
        "id": "Al-N1cIesVsP",
        "colab_type": "text"
      },
      "cell_type": "markdown",
      "source": [
        "<a id=\"predict\"> </a>\n",
        "## ** Prediction **\n",
        "\n",
        "In the next cell the prediction of the future products to be hired by the customers of the test dataset is carried out, carrying out the task entrusted."
      ]
    },
    {
      "metadata": {
        "id": "qmF0Rz_bsXDF",
        "colab_type": "code",
        "colab": {}
      },
      "cell_type": "code",
      "source": [
        "Cod_Prod_predicted = estimator.predict(dfTs2predict[columns])"
      ],
      "execution_count": 0,
      "outputs": []
    },
    {
      "metadata": {
        "id": "8B64JNpnsbM2",
        "colab_type": "text"
      },
      "cell_type": "markdown",
      "source": [
        "** Creation of the results dataframe **\n",
        "\n",
        "In the next cell, the creation of a dataframe with the customer's ID and the product code to be purchased is carried out.\n",
        "\n",
        "Subsequently, an inverse mapping of these product codes is performed."
      ]
    },
    {
      "metadata": {
        "id": "ZmH3AgUYsalS",
        "colab_type": "code",
        "colab": {}
      },
      "cell_type": "code",
      "source": [
        "# We create a new column with the prediction.\n",
        "dfresults = pd.DataFrame([dfTs2predict[\"ID_Customer\"],Cod_Prod_predicted],[\"ID_Customer\", \"Cod_Prod\"]).transpose()\n",
        "\n",
        "# The mapping of the products is carried out in reverse.\n",
        "dfresults = pF.getDfMap(dfresults)"
      ],
      "execution_count": 0,
      "outputs": []
    },
    {
      "metadata": {
        "id": "ztFpQoTCsuxf",
        "colab_type": "text"
      },
      "cell_type": "markdown",
      "source": [
        "** Export of results **\n",
        "\n",
        "Finally, we export the dataframe with the results to the output format proposed by Cajamar."
      ]
    },
    {
      "metadata": {
        "id": "bqygLnHnstGn",
        "colab_type": "code",
        "colab": {}
      },
      "cell_type": "code",
      "source": [
        "fileName = \"Test_Mission.txt\"\n",
        "pF.dfToFile(dfresults,fileName)"
      ],
      "execution_count": 0,
      "outputs": []
    }
  ]
}